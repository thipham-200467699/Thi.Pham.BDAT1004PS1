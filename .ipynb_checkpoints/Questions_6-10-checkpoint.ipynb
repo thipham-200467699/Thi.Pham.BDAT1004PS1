{
 "cells": [
  {
   "cell_type": "markdown",
   "id": "6ae471ff",
   "metadata": {},
   "source": [
    "<h6>Student name: Thi Pham</h6>\n",
    "<h6>Student ID#: 200467699</h6>\n",
    "\n",
    "## Problem Set 1: Questions 6 - 10"
   ]
  },
  {
   "cell_type": "markdown",
   "id": "3729c5c2",
   "metadata": {},
   "source": [
    "#### Question 6 Python: Write a function pig() that turns a word into pig-Latin"
   ]
  },
  {
   "cell_type": "code",
   "execution_count": 9,
   "id": "7fd6b752",
   "metadata": {},
   "outputs": [],
   "source": [
    "def pig(s):\n",
    "    if not s:\n",
    "        return s\n",
    "    \n",
    "    if s.lower()[0] in ['a','e','i','o','u']:\n",
    "        return s.lower()+'way'\n",
    "    else:\n",
    "        return s.lower()[1:len(s)]+s.lower()[0]+'ay'"
   ]
  },
  {
   "cell_type": "code",
   "execution_count": 14,
   "id": "d62e59be",
   "metadata": {},
   "outputs": [
    {
     "name": "stdout",
     "output_type": "stream",
     "text": [
      "appyhay\n",
      "enterway\n"
     ]
    }
   ],
   "source": [
    "print(pig('happy'))\n",
    "print(pig('Enter'))"
   ]
  },
  {
   "cell_type": "markdown",
   "id": "69005533",
   "metadata": {},
   "source": [
    "#### Question 7 Python: File bloodtype1.txt records blood-types of patients (A, B, AB, O or OO) at a clinic. Write a function bldcount() that reads the file with name name and reports (i.e., prints) how many patients there are in each bloodtype."
   ]
  },
  {
   "cell_type": "code",
   "execution_count": 29,
   "id": "6866712c",
   "metadata": {},
   "outputs": [],
   "source": [
    "def bldcount(file_name):\n",
    "    in_file = open(file_name)\n",
    "    str = in_file.readline()\n",
    "    in_file.close()\n",
    "    \n",
    "    stat_dict = {}\n",
    "    for s in str.split():\n",
    "        if s in stat_dict:\n",
    "            stat_dict[s] = stat_dict[s] + 1\n",
    "        else:\n",
    "            stat_dict[s] = 1\n",
    "    \n",
    "    for blood_type in ['A', 'B', 'AB', 'O', 'OO']:\n",
    "        to_be = 'is' if blood_type in stat_dict and stat_dict[blood_type] == 1 else 'are'\n",
    "        quantity_str = 'no' if blood_type not in stat_dict else 'one' if stat_dict[blood_type] == 1 else stat_dict[blood_type]\n",
    "        unit_str = 'patient' if blood_type in stat_dict and stat_dict[blood_type] == 1 else 'patients'\n",
    "        \n",
    "        print(f'There {to_be} {quantity_str} {unit_str} of blood type {blood_type}.')\n",
    "        "
   ]
  },
  {
   "cell_type": "code",
   "execution_count": 30,
   "id": "8583389b",
   "metadata": {},
   "outputs": [
    {
     "name": "stdout",
     "output_type": "stream",
     "text": [
      "There are 15 patients of blood type A.\n",
      "There is one patient of blood type B.\n",
      "There are 13 patients of blood type AB.\n",
      "There are 15 patients of blood type O.\n",
      "There are no patients of blood type OO.\n"
     ]
    }
   ],
   "source": [
    "bldcount('bloodtype1.txt')"
   ]
  },
  {
   "cell_type": "markdown",
   "id": "50057113",
   "metadata": {},
   "source": [
    "#### Question 8 Python: Write a function curconv(curr, amount) and then converts and returns the amount in US dollars."
   ]
  },
  {
   "cell_type": "code",
   "execution_count": 39,
   "id": "a9962903",
   "metadata": {},
   "outputs": [],
   "source": [
    "def curconv(curr, amount):\n",
    "    # Read currency list\n",
    "    # https://stackoverflow.com/questions/3277503/how-to-read-a-file-line-by-line-into-a-list\n",
    "    with open('currencies.txt') as in_file:\n",
    "        lines = [line.rstrip() for line in in_file]\n",
    "    \n",
    "    curr_dict = {}\n",
    "    for line in lines:\n",
    "        data = line.split('\\t')\n",
    "        curr_dict[data[0]] = {\"rate\": float(data[1]), \"name\": data[2]}\n",
    "    \n",
    "    # Start converting\n",
    "    return curr_dict[curr]['rate']*amount"
   ]
  },
  {
   "cell_type": "code",
   "execution_count": 40,
   "id": "47cd299a",
   "metadata": {},
   "outputs": [
    {
     "data": {
      "text/plain": [
       "122.96544"
      ]
     },
     "execution_count": 40,
     "metadata": {},
     "output_type": "execute_result"
    }
   ],
   "source": [
    "curconv('EUR', 100)"
   ]
  },
  {
   "cell_type": "code",
   "execution_count": 41,
   "id": "cbc10257",
   "metadata": {},
   "outputs": [
    {
     "data": {
      "text/plain": [
       "1.241401"
      ]
     },
     "execution_count": 41,
     "metadata": {},
     "output_type": "execute_result"
    }
   ],
   "source": [
    "curconv('JPY', 100)"
   ]
  },
  {
   "cell_type": "markdown",
   "id": "64a8ebad",
   "metadata": {},
   "source": [
    "#### Question 9 Python: Identify what type of exception each of following will cause"
   ]
  },
  {
   "cell_type": "code",
   "execution_count": 43,
   "id": "2ff88e31",
   "metadata": {},
   "outputs": [
    {
     "ename": "TypeError",
     "evalue": "unsupported operand type(s) for +: 'int' and 'str'",
     "output_type": "error",
     "traceback": [
      "\u001b[1;31m---------------------------------------------------------------------------\u001b[0m",
      "\u001b[1;31mTypeError\u001b[0m                                 Traceback (most recent call last)",
      "\u001b[1;32m<ipython-input-43-6370ef5d935c>\u001b[0m in \u001b[0;36m<module>\u001b[1;34m\u001b[0m\n\u001b[0;32m      1\u001b[0m \u001b[1;31m# Trying to add incompatible variables\u001b[0m\u001b[1;33m\u001b[0m\u001b[1;33m\u001b[0m\u001b[1;33m\u001b[0m\u001b[0m\n\u001b[1;32m----> 2\u001b[1;33m \u001b[1;36m6\u001b[0m \u001b[1;33m+\u001b[0m \u001b[1;34m'a'\u001b[0m\u001b[1;33m\u001b[0m\u001b[1;33m\u001b[0m\u001b[0m\n\u001b[0m",
      "\u001b[1;31mTypeError\u001b[0m: unsupported operand type(s) for +: 'int' and 'str'"
     ]
    }
   ],
   "source": [
    "# Trying to add incompatible variables\n",
    "6 + 'a'"
   ]
  },
  {
   "cell_type": "code",
   "execution_count": 44,
   "id": "1764a12f",
   "metadata": {},
   "outputs": [
    {
     "ename": "IndexError",
     "evalue": "list index out of range",
     "output_type": "error",
     "traceback": [
      "\u001b[1;31m---------------------------------------------------------------------------\u001b[0m",
      "\u001b[1;31mIndexError\u001b[0m                                Traceback (most recent call last)",
      "\u001b[1;32m<ipython-input-44-8f3c28524e71>\u001b[0m in \u001b[0;36m<module>\u001b[1;34m\u001b[0m\n\u001b[0;32m      1\u001b[0m \u001b[1;31m# Referring to the 12th item of a list that has only 10 items\u001b[0m\u001b[1;33m\u001b[0m\u001b[1;33m\u001b[0m\u001b[1;33m\u001b[0m\u001b[0m\n\u001b[0;32m      2\u001b[0m \u001b[0mlst\u001b[0m \u001b[1;33m=\u001b[0m \u001b[1;33m[\u001b[0m\u001b[1;36m1\u001b[0m\u001b[1;33m,\u001b[0m \u001b[1;36m2\u001b[0m\u001b[1;33m,\u001b[0m \u001b[1;36m3\u001b[0m\u001b[1;33m,\u001b[0m \u001b[1;36m4\u001b[0m\u001b[1;33m,\u001b[0m \u001b[1;36m5\u001b[0m\u001b[1;33m,\u001b[0m \u001b[1;36m6\u001b[0m\u001b[1;33m,\u001b[0m \u001b[1;36m7\u001b[0m\u001b[1;33m,\u001b[0m \u001b[1;36m8\u001b[0m\u001b[1;33m,\u001b[0m \u001b[1;36m9\u001b[0m\u001b[1;33m,\u001b[0m \u001b[1;36m10\u001b[0m\u001b[1;33m]\u001b[0m\u001b[1;33m\u001b[0m\u001b[1;33m\u001b[0m\u001b[0m\n\u001b[1;32m----> 3\u001b[1;33m \u001b[0mlst\u001b[0m\u001b[1;33m[\u001b[0m\u001b[1;36m13\u001b[0m\u001b[1;33m]\u001b[0m\u001b[1;33m\u001b[0m\u001b[1;33m\u001b[0m\u001b[0m\n\u001b[0m",
      "\u001b[1;31mIndexError\u001b[0m: list index out of range"
     ]
    }
   ],
   "source": [
    "# Referring to the 12th item of a list that has only 10 items\n",
    "lst = [1, 2, 3, 4, 5, 6, 7, 8, 9, 10]\n",
    "lst[13]"
   ]
  },
  {
   "cell_type": "code",
   "execution_count": 7,
   "id": "eaf07ba9",
   "metadata": {},
   "outputs": [
    {
     "ename": "ValueError",
     "evalue": "math domain error",
     "output_type": "error",
     "traceback": [
      "\u001b[1;31m---------------------------------------------------------------------------\u001b[0m",
      "\u001b[1;31mValueError\u001b[0m                                Traceback (most recent call last)",
      "\u001b[1;32m<ipython-input-7-061f13e254ac>\u001b[0m in \u001b[0;36m<module>\u001b[1;34m\u001b[0m\n\u001b[0;32m      1\u001b[0m \u001b[1;31m# Using a value that is out of range for a function’s input\u001b[0m\u001b[1;33m\u001b[0m\u001b[1;33m\u001b[0m\u001b[1;33m\u001b[0m\u001b[0m\n\u001b[1;32m----> 2\u001b[1;33m \u001b[0mmath\u001b[0m\u001b[1;33m.\u001b[0m\u001b[0msqrt\u001b[0m\u001b[1;33m(\u001b[0m\u001b[1;33m-\u001b[0m\u001b[1;36m1\u001b[0m\u001b[1;33m)\u001b[0m\u001b[1;33m\u001b[0m\u001b[1;33m\u001b[0m\u001b[0m\n\u001b[0m",
      "\u001b[1;31mValueError\u001b[0m: math domain error"
     ]
    }
   ],
   "source": [
    "# Using a value that is out of range for a function’s input\n",
    "math.sqrt(-1)"
   ]
  },
  {
   "cell_type": "code",
   "execution_count": 8,
   "id": "0c3ec73a",
   "metadata": {},
   "outputs": [
    {
     "ename": "NameError",
     "evalue": "name 'x' is not defined",
     "output_type": "error",
     "traceback": [
      "\u001b[1;31m---------------------------------------------------------------------------\u001b[0m",
      "\u001b[1;31mNameError\u001b[0m                                 Traceback (most recent call last)",
      "\u001b[1;32m<ipython-input-8-a76424b138e8>\u001b[0m in \u001b[0;36m<module>\u001b[1;34m\u001b[0m\n\u001b[0;32m      1\u001b[0m \u001b[1;31m# Using an undeclared variable, such as print(x) when x has not been defined\u001b[0m\u001b[1;33m\u001b[0m\u001b[1;33m\u001b[0m\u001b[1;33m\u001b[0m\u001b[0m\n\u001b[1;32m----> 2\u001b[1;33m \u001b[0mprint\u001b[0m\u001b[1;33m(\u001b[0m\u001b[0mx\u001b[0m\u001b[1;33m)\u001b[0m\u001b[1;33m\u001b[0m\u001b[1;33m\u001b[0m\u001b[0m\n\u001b[0m",
      "\u001b[1;31mNameError\u001b[0m: name 'x' is not defined"
     ]
    }
   ],
   "source": [
    "# Using an undeclared variable, such as print(x) when x has not been defined\n",
    "print(x)"
   ]
  },
  {
   "cell_type": "code",
   "execution_count": 9,
   "id": "4e843aa1",
   "metadata": {},
   "outputs": [
    {
     "ename": "FileNotFoundError",
     "evalue": "[Errno 2] No such file or directory: 'some_other_file.txt'",
     "output_type": "error",
     "traceback": [
      "\u001b[1;31m---------------------------------------------------------------------------\u001b[0m",
      "\u001b[1;31mFileNotFoundError\u001b[0m                         Traceback (most recent call last)",
      "\u001b[1;32m<ipython-input-9-b7df0ad0f163>\u001b[0m in \u001b[0;36m<module>\u001b[1;34m\u001b[0m\n\u001b[0;32m      1\u001b[0m \u001b[1;31m# Trying to open a file that does not exist, such as mistyping the file name or looking in the wrong directory\u001b[0m\u001b[1;33m\u001b[0m\u001b[1;33m\u001b[0m\u001b[1;33m\u001b[0m\u001b[0m\n\u001b[1;32m----> 2\u001b[1;33m \u001b[0mf\u001b[0m \u001b[1;33m=\u001b[0m \u001b[0mopen\u001b[0m\u001b[1;33m(\u001b[0m\u001b[1;34m'some_other_file.txt'\u001b[0m\u001b[1;33m)\u001b[0m\u001b[1;33m\u001b[0m\u001b[1;33m\u001b[0m\u001b[0m\n\u001b[0m",
      "\u001b[1;31mFileNotFoundError\u001b[0m: [Errno 2] No such file or directory: 'some_other_file.txt'"
     ]
    }
   ],
   "source": [
    "# Trying to open a file that does not exist, such as mistyping the file name or looking in the wrong directory\n",
    "f = open('some_other_file.txt')"
   ]
  },
  {
   "cell_type": "markdown",
   "id": "4f8b344f",
   "metadata": {},
   "source": [
    "#### Question 10 Python: Write a function called frequencies() that takes a string as its only parameter, and returns a list of integers, showing the number of times each character appears in the text"
   ]
  },
  {
   "cell_type": "code",
   "execution_count": 22,
   "id": "6dbbdc7d",
   "metadata": {},
   "outputs": [],
   "source": [
    "def frequencies(str):\n",
    "    # initialize the frequency list\n",
    "    # function ord to get ascii value of the character\n",
    "    # https://stackoverflow.com/questions/227459/how-to-get-the-ascii-value-of-a-character\n",
    "    freq_list = [0 for i in range(ord('z') - ord('a') + 1)]\n",
    "    \n",
    "    for c in str.lower():\n",
    "        if c.isalpha():\n",
    "            freq_list[ord(c) - ord('a')] += 1;\n",
    "    \n",
    "    print(freq_list)"
   ]
  },
  {
   "cell_type": "code",
   "execution_count": 23,
   "id": "739650d1",
   "metadata": {},
   "outputs": [
    {
     "name": "stdout",
     "output_type": "stream",
     "text": [
      "[1, 1, 1, 3, 5, 1, 1, 2, 1, 0, 1, 0, 1, 2, 4, 0, 1, 2, 0, 3, 1, 0, 1, 1, 0, 0]\n"
     ]
    }
   ],
   "source": [
    "frequencies('The quick red fox got bored and went home.')"
   ]
  }
 ],
 "metadata": {
  "kernelspec": {
   "display_name": "Python 3",
   "language": "python",
   "name": "python3"
  },
  "language_info": {
   "codemirror_mode": {
    "name": "ipython",
    "version": 3
   },
   "file_extension": ".py",
   "mimetype": "text/x-python",
   "name": "python",
   "nbconvert_exporter": "python",
   "pygments_lexer": "ipython3",
   "version": "3.8.8"
  }
 },
 "nbformat": 4,
 "nbformat_minor": 5
}
