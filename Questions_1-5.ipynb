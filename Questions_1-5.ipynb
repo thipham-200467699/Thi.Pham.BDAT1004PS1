{
 "cells": [
  {
   "cell_type": "markdown",
   "id": "ee8d7aee",
   "metadata": {},
   "source": [
    "<h6>Student name: Thi Pham</h6>\n",
    "<h6>Student ID#: 200467699</h6>\n",
    "\n",
    "## Problem Set 1: Questions 1 - 5"
   ]
  },
  {
   "cell_type": "markdown",
   "id": "693c1bc2",
   "metadata": {},
   "source": [
    "#### Question 1 C#\n",
    "#### What data type is each of the following?"
   ]
  },
  {
   "cell_type": "markdown",
   "id": "a6bfd5a2",
   "metadata": {},
   "source": [
    "* 5 --> unsigned int\n",
    "* 5.0 --> float\n",
    "* 5 > 1 --> bool\n",
    "* '5' --> char\n",
    "* 5 * 2 --> int\n",
    "* '5' * 2 --> int\n",
    "* '5' + '2' --> int\n",
    "* 5 / 2 --> int\n",
    "* 5 % 2 --> int\n",
    "* {5, 2, 1} --> int[]\n",
    "* 5 == 3 --> bool\n",
    "* Pi (the number) --> double"
   ]
  },
  {
   "cell_type": "markdown",
   "id": "a8f86c27",
   "metadata": {},
   "source": [
    "#### Question 2 C#\n",
    "#### Write (and evaluate) C# expressions that answer these questions:"
   ]
  },
  {
   "cell_type": "markdown",
   "id": "adc98172",
   "metadata": {},
   "source": [
    "###### a. How many letters are there in 'Supercalifragilisticexpialidocious'?"
   ]
  },
  {
   "cell_type": "code",
   "execution_count": 109,
   "id": "1950ef17",
   "metadata": {},
   "outputs": [
    {
     "name": "stdout",
     "output_type": "stream",
     "text": [
      "34\r\n"
     ]
    }
   ],
   "source": [
    "string s = \"Supercalifragilisticexpialidocious\";\n",
    "Console.WriteLine(s.Length);"
   ]
  },
  {
   "cell_type": "markdown",
   "id": "757e057c",
   "metadata": {},
   "source": [
    "###### b. Does 'Supercalifragilisticexpialidocious' contain 'ice' as a substring?"
   ]
  },
  {
   "cell_type": "code",
   "execution_count": 110,
   "id": "6dc93d77",
   "metadata": {},
   "outputs": [
    {
     "name": "stdout",
     "output_type": "stream",
     "text": [
      "The string contains 'ice'.\r\n"
     ]
    }
   ],
   "source": [
    "string substr = \"ice\";\n",
    "int idx = s.IndexOf(substr);\n",
    "if (idx > 0) {\n",
    "    Console.WriteLine(\"The string contains 'ice'.\");\n",
    "} else {\n",
    "    Console.WriteLine(\"The string does not contains 'ice'.\");\n",
    "}"
   ]
  },
  {
   "cell_type": "markdown",
   "id": "0f8a5d76",
   "metadata": {},
   "source": [
    "###### c. Which of the following words is the longest:\n",
    "###### Supercalifragilisticexpialidocious, Honorificabilitudinitatibus, or\n",
    "###### Bababadalgharaghtakamminarronnkonn?"
   ]
  },
  {
   "cell_type": "code",
   "execution_count": 111,
   "id": "358e7506",
   "metadata": {},
   "outputs": [
    {
     "name": "stdout",
     "output_type": "stream",
     "text": [
      "The longest word is Supercalifragilisticexpialidocious\n",
      "The longest word is Bababadalgharaghtakamminarronnkonn\n"
     ]
    }
   ],
   "source": [
    "string[] str_array = {\"Supercalifragilisticexpialidocious\", \"Honorificabilitudinitatibus\", \"Bababadalgharaghtakamminarronnkonn\"};\n",
    "int max_length = 0;\n",
    "\n",
    "// Find the max length\n",
    "foreach (string s in str_array)\n",
    "{\n",
    "    if(s.Length > max_length) {\n",
    "        max_length = s.Length;\n",
    "    }\n",
    "}\n",
    "\n",
    "// Find all elements whose length = max_length\n",
    "foreach (string s in str_array)\n",
    "{\n",
    "    if(s.Length == max_length) {\n",
    "        Console.WriteLine($\"The longest word is {s}\");\n",
    "    }\n",
    "}"
   ]
  },
  {
   "cell_type": "markdown",
   "id": "dc8fa6dd",
   "metadata": {},
   "source": [
    "###### d. Which composer comes first in the dictionary: 'Berlioz', 'Borodin', 'Brian', 'Bartok', 'Bellini', 'Buxtehude', 'Bernstein'. Which one comes last?"
   ]
  },
  {
   "cell_type": "code",
   "execution_count": 112,
   "id": "db72d64a",
   "metadata": {},
   "outputs": [
    {
     "name": "stdout",
     "output_type": "stream",
     "text": [
      "The composer which comes first in the dictionary is Bartok\n",
      "The composer which comes last in the dictionary is Buxtehude\n"
     ]
    }
   ],
   "source": [
    "string[] composers = {\"Berlioz\", \"Borodin\", \"Brian\", \"Bartok\", \"Bellini\", \"Buxtehude\", \"Bernstein\"};\n",
    "Array.Sort(composers);\n",
    "Console.WriteLine($\"The composer which comes first in the dictionary is {composers[0]}\");\n",
    "Console.WriteLine($\"The composer which comes last in the dictionary is {composers[composers.Length-1]}\");"
   ]
  },
  {
   "cell_type": "markdown",
   "id": "dad5f752",
   "metadata": {},
   "source": [
    "#### Question 3 C#\n",
    "#### Implement function triangleArea(a,b,c) that takes as input the lengths of the 3 sides of a triangle and returns the area of the triangle. By Heron's formula, the area of a triangle with side lengths a, b, and c is s(s - a)(s -b)(s - c), where s = (a +b +c)/2."
   ]
  },
  {
   "cell_type": "code",
   "execution_count": 113,
   "id": "8482df81",
   "metadata": {},
   "outputs": [
    {
     "name": "stdout",
     "output_type": "stream",
     "text": [
      "The area of the triangle is 1.7320508075688772\r\n"
     ]
    }
   ],
   "source": [
    "class Question3\n",
    "{\n",
    "  public static double triangleArea(float a, float b, float c) \n",
    "  {\n",
    "      // validate parameters\n",
    "      if(a <= 0 || b <= 0 || c <= 0){\n",
    "          Console.WriteLine(\"Length of sides cannot be equal to or less than zero!\");\n",
    "          return -1;\n",
    "      }\n",
    "      \n",
    "      // Start calculating\n",
    "      double s = (double)(a + b +c)/2;\n",
    "      double ret_area = Math.Sqrt(s*(s-a)*(s-b)*(s-c));\n",
    "      \n",
    "      return ret_area;\n",
    "  }\n",
    "}\n",
    "\n",
    "double result = Question3.triangleArea(2, 2, 2);\n",
    "if(result > -1){\n",
    "    Console.WriteLine($\"The area of the triangle is {result}\");\n",
    "}"
   ]
  },
  {
   "cell_type": "markdown",
   "id": "e5244cc7",
   "metadata": {},
   "source": [
    "#### Question 4 C#\n",
    "#### Write a program in C# Sharp to separate odd and even integers in separate arrays."
   ]
  },
  {
   "cell_type": "code",
   "execution_count": 114,
   "id": "24770ff0",
   "metadata": {},
   "outputs": [
    {
     "name": "stdout",
     "output_type": "stream",
     "text": [
      "The even elements are: 46 32 \n",
      "The odd elements are: 25 47 45 "
     ]
    }
   ],
   "source": [
    "class Question4\n",
    "{\n",
    "  public static void separateOddEven(int[] num_array) \n",
    "  {\n",
    "      List<int> odd_list = new List<int>();\n",
    "      List<int> even_list = new List<int>();\n",
    "      \n",
    "      foreach(int num in num_array){\n",
    "          if(num%2 == 0) {\n",
    "              even_list.Add(num);\n",
    "          } else {\n",
    "              odd_list.Add(num);\n",
    "          }\n",
    "      }\n",
    "      \n",
    "      Console.Write(\"The even elements are: \");\n",
    "      foreach(int num in even_list) {\n",
    "          Console.Write($\"{num} \");\n",
    "      }\n",
    "      Console.Write(\"\\nThe odd elements are: \");\n",
    "      foreach(int num in odd_list) {\n",
    "          Console.Write($\"{num} \");\n",
    "      }\n",
    "  }\n",
    "}\n",
    "\n",
    "int[] num_array = {25, 47, 45, 46, 32};\n",
    "Question4.separateOddEven(num_array);"
   ]
  },
  {
   "cell_type": "markdown",
   "id": "c13cb005",
   "metadata": {},
   "source": [
    "#### Question 5 C#\n",
    "###### a. Write a function inside(x,y,x1,y1,x2,y2) that returns True or False depending on whether the point (x,y) lies in the rectangle with lower left corner (x1,y1) and upper right corner (x2,y2)."
   ]
  },
  {
   "cell_type": "code",
   "execution_count": 115,
   "id": "69c809ec",
   "metadata": {},
   "outputs": [
    {
     "name": "stdout",
     "output_type": "stream",
     "text": [
      "True\r\n"
     ]
    }
   ],
   "source": [
    "class Question5a\n",
    "{\n",
    "  public static bool inside(double x, double y, double x1, double y1, double x2, double y2) \n",
    "  {\n",
    "      if(x1 >= x2 || y1 >= y2){\n",
    "          throw new Exception(\"Please make sure (x1,y1) is the lower left corner and (x2,y2) is the upper right corner\");\n",
    "      }\n",
    "      \n",
    "      if((x1<= x && x <= x2) \n",
    "         && (y1 <= y && y <= y2)){\n",
    "          return true;\n",
    "      }\n",
    "      \n",
    "      return false;\n",
    "  }\n",
    "}\n",
    "\n",
    "bool is_inside = Question5a.inside(1,1,0,0,2,2);\n",
    "Console.WriteLine(is_inside);"
   ]
  },
  {
   "cell_type": "code",
   "execution_count": 116,
   "id": "f3538449",
   "metadata": {},
   "outputs": [
    {
     "name": "stdout",
     "output_type": "stream",
     "text": [
      "False\r\n"
     ]
    }
   ],
   "source": [
    "is_inside = Question5a.inside(0,0,1,1,2,2);\n",
    "Console.WriteLine(is_inside);"
   ]
  },
  {
   "cell_type": "markdown",
   "id": "04df2a07",
   "metadata": {},
   "source": [
    "###### b. Use function inside() from part a. to write an expression that tests whether the point (1,1) lies in both of the following rectangles: one with lower left corner (0.3, 0.5) and upper right corner (1.1, 0.7) and the other with lower left corner (0.5, 0.2) and upper right corner (1.1, 2)."
   ]
  },
  {
   "cell_type": "code",
   "execution_count": 117,
   "id": "a3952a5d",
   "metadata": {},
   "outputs": [
    {
     "name": "stdout",
     "output_type": "stream",
     "text": [
      "The point (1,1) lies in only the second rectangle.\r\n"
     ]
    }
   ],
   "source": [
    "bool is_inside_rec1 = Question5a.inside(1,1,0.3,0.3,1.1,0.7);\n",
    "bool is_inside_rec2 = Question5a.inside(1,1,0.5,0.2,1.1,2);\n",
    "\n",
    "if(is_inside_rec1 && is_inside_rec2){\n",
    "    Console.WriteLine(\"The point (1,1) lies in both rectangles.\");\n",
    "} else if (is_inside_rec1){\n",
    "    Console.WriteLine(\"The point (1,1) lies in only the first rectangle.\");\n",
    "} else if (is_inside_rec2){\n",
    "    Console.WriteLine(\"The point (1,1) lies in only the second rectangle.\");\n",
    "} else {\n",
    "    Console.WriteLine(\"The point (1,1) lies outside of both rectangles.\");\n",
    "}"
   ]
  }
 ],
 "metadata": {
  "kernelspec": {
   "display_name": ".NET (C#)",
   "language": "C#",
   "name": ".net-csharp"
  },
  "language_info": {
   "file_extension": ".cs",
   "mimetype": "text/x-csharp",
   "name": "C#",
   "pygments_lexer": "csharp",
   "version": "8.0"
  }
 },
 "nbformat": 4,
 "nbformat_minor": 5
}
